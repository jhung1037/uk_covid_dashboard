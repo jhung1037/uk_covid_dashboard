{
 "cells": [
  {
   "cell_type": "markdown",
   "id": "c9c56321-bf20-4869-a0db-cf916d1cee72",
   "metadata": {},
   "source": [
    "## Death Count and Dose Vaccinated Ralation"
   ]
  },
  {
   "cell_type": "markdown",
   "id": "645dfd5e-2318-47d1-8408-cf244f658454",
   "metadata": {},
   "source": [
    "This is a graph that shows the accumulation of deaths and vaccinated counts.\n",
    "\n",
    "The statistic data are collected from Public Health England (PHE), and the relation between the factors are indicated as such."
   ]
  },
  {
   "cell_type": "code",
   "execution_count": 1,
   "id": "b3ae3557-2764-4318-a5a7-aeeea087e32c",
   "metadata": {},
   "outputs": [],
   "source": [
    "from IPython.display import clear_output\n",
    "import ipywidgets as wdg\n",
    "import pandas as pd\n",
    "import numpy as np\n",
    "import matplotlib.pyplot as plt\n",
    "import json\n",
    "from uk_covid19 import Cov19API\n",
    "\n",
    "# embed matplotlib output and make figures larger\n",
    "%matplotlib inline\n",
    "plt.rcParams['figure.dpi'] = 100"
   ]
  },
  {
   "cell_type": "code",
   "execution_count": 2,
   "id": "8ba044a2-f8e5-4132-9212-818fd4e43b4e",
   "metadata": {},
   "outputs": [],
   "source": [
    "# In[] ACCESSING DATA\n",
    "def access_api():\n",
    "    filters = ['areaType=overview']\n",
    "    structure = {\n",
    "        \"date\": \"date\",\n",
    "        \"Deaths\": \"cumDeaths28DaysByPublishDate\", \n",
    "        \"FirstDose\":\"cumPeopleVaccinatedFirstDoseByVaccinationDate\",\n",
    "        \"SecondDose\":\"cumPeopleVaccinatedSecondDoseByVaccinationDate\"\n",
    "    }\n",
    "    api = Cov19API(filters=filters, structure=structure)\n",
    "    deathVSdose=api.get_json()\n",
    "    with open(\"DvD.json\", \"wt\") as OUTF:\n",
    "        json.dump(deathVSdose, OUTF)\n",
    "    return OUTF"
   ]
  },
  {
   "cell_type": "code",
   "execution_count": 3,
   "id": "8933427b-175d-452c-8aa8-398260a94abd",
   "metadata": {},
   "outputs": [],
   "source": [
    "# In[] WRANGLE DATA\n",
    "\n",
    "def wrangle_data(rawdata):\n",
    "    \n",
    "    # load file and sort date\n",
    "    with open(\"DvD.json\", \"rt\") as INFILE:\n",
    "        data=json.load(INFILE)\n",
    "    datalist=data['data']\n",
    "    dates=[dictionary['date'] for dictionary in datalist]\n",
    "    dates.sort()\n",
    "\n",
    "    # convert to pandas datetime object\n",
    "    def parse_date(datestring):\n",
    "        return pd.to_datetime(datestring, format=\"%Y-%m-%d\")\n",
    "    startdate=parse_date(dates[0])\n",
    "    enddate=parse_date(dates[-1])\n",
    "\n",
    "    # build DF with date index\n",
    "    index=pd.date_range(startdate, enddate, freq='D')\n",
    "    DvDdf=pd.DataFrame(index=index, columns=['Deaths', 'FirstDose', 'SecondDose'])\n",
    "\n",
    "    # replace NULL with 0\n",
    "    for entry in datalist:\n",
    "        date=parse_date(entry['date'])\n",
    "        for column in ['Deaths', 'FirstDose', 'SecondDose']:\n",
    "            if pd.isna(DvDdf.loc[date, column]):\n",
    "                value= int(entry[column]) if entry[column]!=None else 0\n",
    "                DvDdf.loc[date, column]=value\n",
    "    # with missing dates\n",
    "    DvDdf.fillna(0, inplace=True)\n",
    "    \n",
    "    return DvDdf"
   ]
  },
  {
   "cell_type": "code",
   "execution_count": 4,
   "id": "f3bfbd18-d9f2-4971-af80-81d272df399e",
   "metadata": {},
   "outputs": [],
   "source": [
    "# In[] INTERACTIVE\n",
    "\n",
    "# interactive window\n",
    "info=wdg.SelectMultiple(\n",
    "    options=['Deaths', 'FirstDose', 'SecondDose'],\n",
    "    rows=3,\n",
    "    disabled=True,\n",
    "    description='Information:'\n",
    ")\n",
    "scale=wdg.RadioButtons(\n",
    "    options=['linear', 'log'],\n",
    "    disabled=True,\n",
    "    description='Scale:'\n",
    ")\n",
    "\n",
    "# refresh data button\n",
    "def access_api_callback(button):\n",
    "    apibutton.icon='refresh'\n",
    "    apibutton.description='REFRESH DATA'\n",
    "    info.disabled=False\n",
    "    scale.disabled=False\n",
    "    apidata=access_api()\n",
    "    global df\n",
    "    df=wrangle_data(apidata)\n",
    "    graph(info,scale)\n",
    "\n",
    "apibutton=wdg.Button(\n",
    "    description='LOAD DATA',\n",
    "    button_style='info',\n",
    "    tooltip='Click to download current Public Health England data',\n",
    "    icon='download'\n",
    ")\n",
    "\n",
    "apibutton.on_click(access_api_callback)"
   ]
  },
  {
   "cell_type": "code",
   "execution_count": 5,
   "id": "c6c55bef-0eec-46a8-9b64-d60b5175072e",
   "metadata": {},
   "outputs": [
    {
     "data": {
      "application/vnd.jupyter.widget-view+json": {
       "model_id": "79b082cb532148e5972c1dde88265603",
       "version_major": 2,
       "version_minor": 0
      },
      "text/plain": [
       "Button(button_style='info', description='LOAD DATA', icon='download', style=ButtonStyle(), tooltip='Click to d…"
      ]
     },
     "metadata": {},
     "output_type": "display_data"
    },
    {
     "data": {
      "application/vnd.jupyter.widget-view+json": {
       "model_id": "180b28d7ff684585b4998819d5aac9db",
       "version_major": 2,
       "version_minor": 0
      },
      "text/plain": [
       "HBox(children=(VBox(children=(SelectMultiple(description='Information:', disabled=True, options=('Deaths', 'Fi…"
      ]
     },
     "metadata": {},
     "output_type": "display_data"
    }
   ],
   "source": [
    "# In[] Display\n",
    "\n",
    "# display instruction when initialising\n",
    "def graph(gcols,gscale):\n",
    "    if gscale=='linear':\n",
    "        logscale=False\n",
    "    else:\n",
    "        logscale=True\n",
    "    choice=len(gcols)\n",
    "    if choice>0:\n",
    "        df[list(gcols)].plot(logy=logscale) # for log scale\n",
    "        plt.show() # update graph when interact again\n",
    "    else:\n",
    "        print(\"Load the data and choose the information you want to know\")\n",
    "        print(\"(CTRL-Click to select more than one category)\")\n",
    "\n",
    "# capture output in widget graph\n",
    "output=wdg.interactive_output(graph, {'gcols': info, 'gscale': scale})\n",
    "# create columns\n",
    "lcol=wdg.VBox([info, scale])\n",
    "rcol=wdg.VBox([apibutton, output])\n",
    "# put side by side\n",
    "form=wdg.HBox([lcol,rcol])\n",
    "# Print all\n",
    "display(form)"
   ]
  }
 ],
 "metadata": {
  "kernelspec": {
   "display_name": "Python 3 (ipykernel)",
   "language": "python",
   "name": "python3"
  },
  "language_info": {
   "codemirror_mode": {
    "name": "ipython",
    "version": 3
   },
   "file_extension": ".py",
   "mimetype": "text/x-python",
   "name": "python",
   "nbconvert_exporter": "python",
   "pygments_lexer": "ipython3",
   "version": "3.10.6"
  }
 },
 "nbformat": 4,
 "nbformat_minor": 5
}
